{
 "cells": [
  {
   "cell_type": "code",
   "execution_count": 1,
   "id": "ad9fc9e3",
   "metadata": {},
   "outputs": [
    {
     "name": "stdout",
     "output_type": "stream",
     "text": [
      "Today\n",
      "          period           short-description  temperature\n",
      "0          Today                Mostly Sunny  High: 75 °F\n",
      "1        Tonight                  Patchy Fog   Low: 56 °F\n",
      "2       Thursday  Patchy Fogthen PartlySunny  High: 74 °F\n",
      "3  ThursdayNight                  Patchy Fog   Low: 56 °F\n",
      "4         Friday        Patchy Fogthen Sunny  High: 70 °F\n",
      "5    FridayNight                  Patchy Fog   Low: 55 °F\n",
      "6       Saturday        Patchy Fogthen Sunny  High: 74 °F\n",
      "7  SaturdayNight                Mostly Clear   Low: 56 °F\n",
      "8         Sunday                       Sunny  High: 78 °F\n"
     ]
    }
   ],
   "source": [
    "import pandas as pd\n",
    "from bs4 import *\n",
    "import  requests\n",
    "page = requests.get(\"https://forecast.weather.gov/MapClick.php?\"\n",
    "                    \"lat=33.93680995224785&lon=-118.24891999999994#.XuFT02gzbIU\")\n",
    "soup = BeautifulSoup(page.content,\"html.parser\")\n",
    "week = soup.find_all(id = \"seven-day-forecast-body\")\n",
    "#print(week)\n",
    "clas = soup.find_all(class_ = \"tombstone-container\")\n",
    "print(clas[0].find(class_=\"period-name\").get_text())\n",
    "period_names = [item.find(class_=\"period-name\").get_text()\n",
    "                for item in clas]\n",
    "short_desc = [item.find(class_=\"short-desc\").get_text()\n",
    "                for item in clas]\n",
    "temperature = [item.find(class_=\"temp\").get_text()\n",
    "                for item in clas]\n",
    "\n",
    "weather_stuff  = pd.DataFrame({\n",
    "    'period' : period_names ,\n",
    "    'short-description' : short_desc ,\n",
    "    'temperature' : temperature\n",
    "})\n",
    "print(weather_stuff)\n",
    "weather_stuff.to_csv('weather.csv')"
   ]
  },
  {
   "cell_type": "code",
   "execution_count": null,
   "id": "a0d6e0e5",
   "metadata": {},
   "outputs": [],
   "source": []
  }
 ],
 "metadata": {
  "kernelspec": {
   "display_name": "Python 3 (ipykernel)",
   "language": "python",
   "name": "python3"
  },
  "language_info": {
   "codemirror_mode": {
    "name": "ipython",
    "version": 3
   },
   "file_extension": ".py",
   "mimetype": "text/x-python",
   "name": "python",
   "nbconvert_exporter": "python",
   "pygments_lexer": "ipython3",
   "version": "3.11.5"
  }
 },
 "nbformat": 4,
 "nbformat_minor": 5
}
